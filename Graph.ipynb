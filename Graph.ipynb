{
 "cells": [
  {
   "cell_type": "markdown",
   "metadata": {},
   "source": [
    "# Graph implementation by Deepak"
   ]
  },
  {
   "cell_type": "code",
   "execution_count": 2,
   "metadata": {},
   "outputs": [],
   "source": [
    "class Vertex:\n",
    "    def __init__(self,name):\n",
    "        self.id=name\n",
    "        self.connectedTo={}\n",
    "    def addNeighbor(self,nbr,weight=0):\n",
    "        self.connectedTo[nbr]=weight \n",
    "    def __str__(self):\n",
    "        return str(self.id)+\" Connected to: \"+str([x.id for x in self.connectedTo])\n",
    "    def getConnection(self):\n",
    "        return self.connectedTo.keys()\n",
    "    def getId(self):\n",
    "        return self.id\n",
    "    def getWeight(self,nbr):\n",
    "        return self.connectionTo[nbr]\n",
    "    "
   ]
  },
  {
   "cell_type": "code",
   "execution_count": 3,
   "metadata": {},
   "outputs": [],
   "source": [
    "class Graph:\n",
    "    def __init__(self):\n",
    "        self.vertexlist={}\n",
    "        self.noOfVertex=0\n",
    "    def addVertex(self,v):\n",
    "        vertex=Vertex(v)\n",
    "        self.noOfVertex+=1\n",
    "        self.vertexlist[v]=vertex\n",
    "    def getVertex(self,key):\n",
    "        if key in self.vertexlist:\n",
    "            return self.vertexlist[key]\n",
    "    def ___contains__(self,n):\n",
    "        return n in self.vertexlist\n",
    "    def addEdge(self,u,v,cost=0):\n",
    "        if u not in self.vertexlist:\n",
    "            newVertex=Vertex(u)\n",
    "            self.noOfVertex+=1\n",
    "            self.vertexlist[u]=newVertex\n",
    "        if v not in self.vertexlist:\n",
    "            newVertex=Vertex(v)\n",
    "            self.noOfVertex+=1\n",
    "            self.vertexlist[v]=newVertex\n",
    "        self.vertexlist[u].addNeighbor(self.vertexlist[v],cost)\n",
    "    def getVertices(self):\n",
    "        self.vertexlist.keys()\n",
    "    def __iter__(self):\n",
    "        return iter(self.vertexlist.values())\n",
    "    def display(self):\n",
    "        for i in self.vertexlist:\n",
    "            for j in self.vertexlist[i].connectedTo:\n",
    "                print(str(i)+\"-------\"+str(self.vertexlist[i].connectedTo[j])+\"------\"+str(j.getId()))"
   ]
  },
  {
   "cell_type": "code",
   "execution_count": 4,
   "metadata": {},
   "outputs": [
    {
     "data": {
      "text/plain": [
       "{0: <__main__.Vertex at 0x7f18fc848588>,\n",
       " 1: <__main__.Vertex at 0x7f18fc848a90>,\n",
       " 2: <__main__.Vertex at 0x7f18fc848b00>,\n",
       " 3: <__main__.Vertex at 0x7f18fc848b38>,\n",
       " 4: <__main__.Vertex at 0x7f18fc848ac8>,\n",
       " 5: <__main__.Vertex at 0x7f18fc848978>}"
      ]
     },
     "execution_count": 4,
     "metadata": {},
     "output_type": "execute_result"
    }
   ],
   "source": [
    ">>> g = Graph()\n",
    ">>> for i in range(6):\n",
    "...    g.addVertex(i)\n",
    ">>> g.vertexlist"
   ]
  },
  {
   "cell_type": "code",
   "execution_count": 5,
   "metadata": {},
   "outputs": [],
   "source": [
    ">>> g.addEdge(0,1,5)\n",
    ">>> g.addEdge(0,5,2)\n",
    ">>> g.addEdge(1,2,4)\n",
    ">>> g.addEdge(2,3,9)\n",
    ">>> g.addEdge(3,4,7)\n",
    ">>> g.addEdge(3,5,3)\n",
    ">>> g.addEdge(4,0,1)\n",
    ">>> g.addEdge(5,4,8)\n",
    ">>> g.addEdge(5,2,1)"
   ]
  },
  {
   "cell_type": "code",
   "execution_count": 6,
   "metadata": {},
   "outputs": [
    {
     "name": "stdout",
     "output_type": "stream",
     "text": [
      "( 0 , 1 )\n",
      "( 0 , 5 )\n",
      "( 1 , 2 )\n",
      "( 2 , 3 )\n",
      "( 3 , 4 )\n",
      "( 3 , 5 )\n",
      "( 4 , 0 )\n",
      "( 5 , 4 )\n",
      "( 5 , 2 )\n"
     ]
    }
   ],
   "source": [
    ">>> for v in g:\n",
    "...    for w in v.getConnection():\n",
    "...        print(\"( %s , %s )\" % (v.getId(), w.getId()))"
   ]
  },
  {
   "cell_type": "markdown",
   "metadata": {},
   "source": [
    "# Breadth first search"
   ]
  },
  {
   "cell_type": "code",
   "execution_count": 34,
   "metadata": {},
   "outputs": [],
   "source": [
    "import queue"
   ]
  },
  {
   "cell_type": "code",
   "execution_count": 84,
   "metadata": {},
   "outputs": [],
   "source": [
    "def bfs(start,graph):\n",
    "    explore=[]\n",
    "    queue=[start]\n",
    "    while queue:\n",
    "        n=queue.pop(0)\n",
    "        if n not in explore:\n",
    "            explore.append(n)\n",
    "            neighbors=graph.vertexlist[n].getConnection()\n",
    "            for neighbor in neighbors:\n",
    "                queue.append(neighbor.id)\n",
    "    return explore"
   ]
  },
  {
   "cell_type": "code",
   "execution_count": 85,
   "metadata": {
    "scrolled": true
   },
   "outputs": [
    {
     "data": {
      "text/plain": [
       "[4, 0, 1, 5, 2, 3]"
      ]
     },
     "execution_count": 85,
     "metadata": {},
     "output_type": "execute_result"
    }
   ],
   "source": [
    "bfs(4,g)"
   ]
  },
  {
   "cell_type": "markdown",
   "metadata": {},
   "source": [
    "# Depth first search"
   ]
  },
  {
   "cell_type": "code",
   "execution_count": 86,
   "metadata": {},
   "outputs": [],
   "source": [
    "def dfs(start,graph):\n",
    "    explore=[]\n",
    "    stack=[start]\n",
    "    while stack:\n",
    "        n=stack.pop()\n",
    "        if n not in explore:\n",
    "            explore.append(n)\n",
    "            neighbors=graph.vertexlist[n].getConnection()\n",
    "            for neighbor in neighbors:\n",
    "                stack.append(neighbor.id)\n",
    "    return explore"
   ]
  },
  {
   "cell_type": "code",
   "execution_count": 87,
   "metadata": {
    "scrolled": true
   },
   "outputs": [
    {
     "data": {
      "text/plain": [
       "[0, 5, 2, 3, 4, 1]"
      ]
     },
     "execution_count": 87,
     "metadata": {},
     "output_type": "execute_result"
    }
   ],
   "source": [
    "dfs(0,g)"
   ]
  },
  {
   "cell_type": "code",
   "execution_count": 28,
   "metadata": {
    "scrolled": true
   },
   "outputs": [
    {
     "data": {
      "text/plain": [
       "[0, 1, 5, 2, 4, 3]"
      ]
     },
     "execution_count": 28,
     "metadata": {},
     "output_type": "execute_result"
    }
   ],
   "source": [
    "bfs(0,g)"
   ]
  },
  {
   "cell_type": "code",
   "execution_count": 88,
   "metadata": {
    "scrolled": true
   },
   "outputs": [
    {
     "name": "stdout",
     "output_type": "stream",
     "text": [
      "0-------5------1\n",
      "0-------2------5\n",
      "1-------4------2\n",
      "2-------9------3\n",
      "3-------7------4\n",
      "3-------3------5\n",
      "4-------1------0\n",
      "5-------8------4\n",
      "5-------1------2\n"
     ]
    }
   ],
   "source": [
    "g.display()"
   ]
  },
  {
   "cell_type": "markdown",
   "metadata": {},
   "source": [
    "# Minimum spaning tree"
   ]
  },
  {
   "cell_type": "markdown",
   "metadata": {},
   "source": [
    "## Kruskal’s Minimum Spanning Tree Algorithm"
   ]
  },
  {
   "cell_type": "code",
   "execution_count": 58,
   "metadata": {},
   "outputs": [],
   "source": [
    "def kruskal(g):\n",
    "    graph=Graph()\n",
    "    if len(g.vertexlist)==1:\n",
    "        start=next(iter(g.vertexlist))\n",
    "        graph.vertexlist[start]=g.vertexlist[start]\n",
    "        return graph\n",
    "    visited=[]\n",
    "    edges={}\n",
    "    for v in g.vertexlist:\n",
    "        for n in g.vertexlist[v].connectedTo:\n",
    "            edges[g.vertexlist[v].connectedTo[n]]=(v,n.getId())\n",
    "    for w in sorted(edges.keys()):\n",
    "        c=g.vertexlist[edges[w][0]].getId()\n",
    "        d=g.vertexlist[edges[w][1]].getId()\n",
    "        if not visited:\n",
    "            graph.addEdge(c,d,cost=w)\n",
    "            visited.append(c)\n",
    "            visited.append(d)\n",
    "        if c and d in visited:\n",
    "            continue\n",
    "        else:\n",
    "            graph.addEdge(c,d,w)\n",
    "            if c not in visited:\n",
    "                visited.append(c)\n",
    "            else:\n",
    "                visited.append(d)\n",
    "    return graph"
   ]
  },
  {
   "cell_type": "code",
   "execution_count": 62,
   "metadata": {},
   "outputs": [],
   "source": [
    "edges={}\n",
    "for v in g.vertexlist:\n",
    "    for n in g.vertexlist[v].connectedTo:\n",
    "        edges[g.vertexlist[v].connectedTo[n]]=(v,n.getId())"
   ]
  },
  {
   "cell_type": "code",
   "execution_count": 63,
   "metadata": {},
   "outputs": [
    {
     "data": {
      "text/plain": [
       "{5: (0, 1),\n",
       " 2: (0, 5),\n",
       " 4: (1, 2),\n",
       " 9: (2, 3),\n",
       " 7: (3, 4),\n",
       " 3: (3, 5),\n",
       " 1: (5, 2),\n",
       " 8: (5, 4)}"
      ]
     },
     "execution_count": 63,
     "metadata": {},
     "output_type": "execute_result"
    }
   ],
   "source": [
    "edges"
   ]
  },
  {
   "cell_type": "code",
   "execution_count": 59,
   "metadata": {},
   "outputs": [],
   "source": [
    "mst=kruskal(g)"
   ]
  },
  {
   "cell_type": "code",
   "execution_count": 60,
   "metadata": {},
   "outputs": [],
   "source": [
    "edges={}\n",
    "for v in mst.vertexlist:\n",
    "    for n in mst.vertexlist[v].connectedTo:\n",
    "        edges[mst.vertexlist[v].connectedTo[n]]=(v,n.getId())"
   ]
  },
  {
   "cell_type": "code",
   "execution_count": 61,
   "metadata": {},
   "outputs": [
    {
     "data": {
      "text/plain": [
       "{1: (5, 2), 8: (5, 4), 2: (0, 5), 5: (0, 1), 7: (3, 4)}"
      ]
     },
     "execution_count": 61,
     "metadata": {},
     "output_type": "execute_result"
    }
   ],
   "source": [
    "edges"
   ]
  },
  {
   "cell_type": "markdown",
   "metadata": {},
   "source": [
    "# Prim’s Minimum Spanning Tree"
   ]
  },
  {
   "cell_type": "code",
   "execution_count": null,
   "metadata": {},
   "outputs": [],
   "source": [
    "def prism(g):\n",
    "    graph=Graph()\n",
    "    start=next(iter(g.vertexlist))\n",
    "    if len(g.vertexlist)==1:\n",
    "        graph.vertexlist[start]=g.vertexlist[start]\n",
    "        return graph\n",
    "    stack=[start]\n",
    "    visited=[]\n",
    "    while stack:\n",
    "        v=stack.pop()\n",
    "        graph.addVertex(v)\n",
    "        visited.append(v)\n",
    "        for n in g.vertexlist[v].connectedTo:\n",
    "            \n",
    "        \n",
    "    \n",
    "    "
   ]
  }
 ],
 "metadata": {
  "kernelspec": {
   "display_name": "Python 3",
   "language": "python",
   "name": "python3"
  },
  "language_info": {
   "codemirror_mode": {
    "name": "ipython",
    "version": 3
   },
   "file_extension": ".py",
   "mimetype": "text/x-python",
   "name": "python",
   "nbconvert_exporter": "python",
   "pygments_lexer": "ipython3",
   "version": "3.7.1"
  }
 },
 "nbformat": 4,
 "nbformat_minor": 2
}
